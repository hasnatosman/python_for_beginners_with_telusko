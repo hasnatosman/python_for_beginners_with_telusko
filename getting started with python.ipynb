{
 "cells": [
  {
   "cell_type": "code",
   "execution_count": 13,
   "id": "54af1195",
   "metadata": {},
   "outputs": [
    {
     "data": {
      "text/plain": [
       "5"
      ]
     },
     "execution_count": 13,
     "metadata": {},
     "output_type": "execute_result"
    }
   ],
   "source": [
    "2 + 3                       # ----------- addition -----------------"
   ]
  },
  {
   "cell_type": "code",
   "execution_count": 5,
   "id": "6c030cec",
   "metadata": {},
   "outputs": [
    {
     "data": {
      "text/plain": [
       "1"
      ]
     },
     "execution_count": 5,
     "metadata": {},
     "output_type": "execute_result"
    }
   ],
   "source": [
    "9 - 8                       # ------------ subtraction --------------"
   ]
  },
  {
   "cell_type": "code",
   "execution_count": 8,
   "id": "b850ff22",
   "metadata": {},
   "outputs": [
    {
     "data": {
      "text/plain": [
       "20"
      ]
     },
     "execution_count": 8,
     "metadata": {},
     "output_type": "execute_result"
    }
   ],
   "source": [
    "5 * 4                       # -------------- multiplication --------------"
   ]
  },
  {
   "cell_type": "code",
   "execution_count": 11,
   "id": "6476b203",
   "metadata": {},
   "outputs": [
    {
     "data": {
      "text/plain": [
       "4.0"
      ]
     },
     "execution_count": 11,
     "metadata": {},
     "output_type": "execute_result"
    }
   ],
   "source": [
    "8 / 2                       # -------------- division --------------------"
   ]
  },
  {
   "cell_type": "code",
   "execution_count": 1,
   "id": "923ef73a",
   "metadata": {},
   "outputs": [
    {
     "data": {
      "text/plain": [
       "5"
      ]
     },
     "execution_count": 1,
     "metadata": {},
     "output_type": "execute_result"
    }
   ],
   "source": [
    "20 // 4                     # -------------- integer division / floor division ------"
   ]
  },
  {
   "cell_type": "code",
   "execution_count": 2,
   "id": "b1521505",
   "metadata": {},
   "outputs": [
    {
     "data": {
      "text/plain": [
       "7"
      ]
     },
     "execution_count": 2,
     "metadata": {},
     "output_type": "execute_result"
    }
   ],
   "source": [
    "8 + 9 - 10"
   ]
  },
  {
   "cell_type": "code",
   "execution_count": 3,
   "id": "e06c0d7b",
   "metadata": {},
   "outputs": [
    {
     "data": {
      "text/plain": [
       "14"
      ]
     },
     "execution_count": 3,
     "metadata": {},
     "output_type": "execute_result"
    }
   ],
   "source": [
    "8 + 2 * 3"
   ]
  },
  {
   "cell_type": "code",
   "execution_count": 4,
   "id": "6c0137d6",
   "metadata": {},
   "outputs": [
    {
     "data": {
      "text/plain": [
       "20"
      ]
     },
     "execution_count": 4,
     "metadata": {},
     "output_type": "execute_result"
    }
   ],
   "source": [
    "(8 + 2 ) * 2"
   ]
  },
  {
   "cell_type": "code",
   "execution_count": 5,
   "id": "fcbf7290",
   "metadata": {},
   "outputs": [
    {
     "data": {
      "text/plain": [
       "8"
      ]
     },
     "execution_count": 5,
     "metadata": {},
     "output_type": "execute_result"
    }
   ],
   "source": [
    "2 ** 3                      # ------------ power -------------"
   ]
  },
  {
   "cell_type": "code",
   "execution_count": 6,
   "id": "5eed59e2",
   "metadata": {},
   "outputs": [
    {
     "data": {
      "text/plain": [
       "2"
      ]
     },
     "execution_count": 6,
     "metadata": {},
     "output_type": "execute_result"
    }
   ],
   "source": [
    "20 % 3                     # ------------ modulas ----------------"
   ]
  },
  {
   "cell_type": "code",
   "execution_count": 7,
   "id": "f2fd9788",
   "metadata": {},
   "outputs": [
    {
     "name": "stdout",
     "output_type": "stream",
     "text": [
      "I am a pythonista\n"
     ]
    }
   ],
   "source": [
    "print('I am a pythonista')   # ---------- printing string -------------"
   ]
  },
  {
   "cell_type": "code",
   "execution_count": 8,
   "id": "6223a79e",
   "metadata": {},
   "outputs": [
    {
     "data": {
      "text/plain": [
       "'Hasnat'"
      ]
     },
     "execution_count": 8,
     "metadata": {},
     "output_type": "execute_result"
    }
   ],
   "source": [
    "'Hasnat'"
   ]
  },
  {
   "cell_type": "code",
   "execution_count": 9,
   "id": "2b7f5a90",
   "metadata": {},
   "outputs": [
    {
     "name": "stdout",
     "output_type": "stream",
     "text": [
      "Hasnat's laptop\n"
     ]
    }
   ],
   "source": [
    "print(\"Hasnat's laptop\")"
   ]
  },
  {
   "cell_type": "code",
   "execution_count": 11,
   "id": "0ca49865",
   "metadata": {},
   "outputs": [
    {
     "name": "stdout",
     "output_type": "stream",
     "text": [
      "Hasnat's skills\n"
     ]
    }
   ],
   "source": [
    "print('Hasnat\\'s skills')"
   ]
  },
  {
   "cell_type": "code",
   "execution_count": 14,
   "id": "181b3215",
   "metadata": {},
   "outputs": [
    {
     "data": {
      "text/plain": [
       "'hasnatosman'"
      ]
     },
     "execution_count": 14,
     "metadata": {},
     "output_type": "execute_result"
    }
   ],
   "source": [
    "'hasnat' + 'osman'            # ------ combiining two string-------"
   ]
  },
  {
   "cell_type": "code",
   "execution_count": 15,
   "id": "c4343916",
   "metadata": {},
   "outputs": [
    {
     "data": {
      "text/plain": [
       "'xxxxxxxxxx'"
      ]
     },
     "execution_count": 15,
     "metadata": {},
     "output_type": "execute_result"
    }
   ],
   "source": [
    "'x' * 10"
   ]
  },
  {
   "cell_type": "code",
   "execution_count": 17,
   "id": "22428c27",
   "metadata": {},
   "outputs": [
    {
     "name": "stdout",
     "output_type": "stream",
     "text": [
      "c:\\docs\n",
      "avin\n"
     ]
    }
   ],
   "source": [
    "print('c:\\docs\\navin')        # -------- slash n (\\n) means new line --------"
   ]
  },
  {
   "cell_type": "code",
   "execution_count": 20,
   "id": "f8771b93",
   "metadata": {},
   "outputs": [
    {
     "name": "stdout",
     "output_type": "stream",
     "text": [
      "c:\\docs\\navin\n"
     ]
    }
   ],
   "source": [
    "print(r'c:\\docs\\navin')       # ---- r means row string ---------"
   ]
  },
  {
   "cell_type": "markdown",
   "id": "1ec3e7f1",
   "metadata": {},
   "source": [
    "### ---------- The End ------------"
   ]
  },
  {
   "cell_type": "code",
   "execution_count": null,
   "id": "da994fec",
   "metadata": {},
   "outputs": [],
   "source": []
  }
 ],
 "metadata": {
  "kernelspec": {
   "display_name": "Python 3 (ipykernel)",
   "language": "python",
   "name": "python3"
  },
  "language_info": {
   "codemirror_mode": {
    "name": "ipython",
    "version": 3
   },
   "file_extension": ".py",
   "mimetype": "text/x-python",
   "name": "python",
   "nbconvert_exporter": "python",
   "pygments_lexer": "ipython3",
   "version": "3.11.0"
  }
 },
 "nbformat": 4,
 "nbformat_minor": 5
}
