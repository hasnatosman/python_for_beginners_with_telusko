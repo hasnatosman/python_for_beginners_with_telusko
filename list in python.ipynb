{
 "cells": [
  {
   "cell_type": "markdown",
   "id": "8bf52b96",
   "metadata": {},
   "source": [
    "### What is list ?"
   ]
  },
  {
   "cell_type": "markdown",
   "id": "b80dab57",
   "metadata": {},
   "source": [
    "##### List is used to store multiple values in a single value"
   ]
  },
  {
   "cell_type": "code",
   "execution_count": 2,
   "id": "279e46a4",
   "metadata": {},
   "outputs": [],
   "source": [
    "num = [23, 4, 55, 10]"
   ]
  },
  {
   "cell_type": "code",
   "execution_count": 3,
   "id": "1a9d0d91",
   "metadata": {},
   "outputs": [
    {
     "data": {
      "text/plain": [
       "[23, 4, 55, 10]"
      ]
     },
     "execution_count": 3,
     "metadata": {},
     "output_type": "execute_result"
    }
   ],
   "source": [
    "num"
   ]
  },
  {
   "cell_type": "code",
   "execution_count": 4,
   "id": "35259a3f",
   "metadata": {},
   "outputs": [
    {
     "data": {
      "text/plain": [
       "10"
      ]
     },
     "execution_count": 4,
     "metadata": {},
     "output_type": "execute_result"
    }
   ],
   "source": [
    "num[3]"
   ]
  },
  {
   "cell_type": "code",
   "execution_count": 5,
   "id": "61808440",
   "metadata": {},
   "outputs": [],
   "source": [
    "name = ['hasnat', 'Kazi', 'Imran']"
   ]
  },
  {
   "cell_type": "code",
   "execution_count": 6,
   "id": "d80e35fe",
   "metadata": {},
   "outputs": [
    {
     "data": {
      "text/plain": [
       "['hasnat', 'Kazi', 'Imran']"
      ]
     },
     "execution_count": 6,
     "metadata": {},
     "output_type": "execute_result"
    }
   ],
   "source": [
    "name"
   ]
  },
  {
   "cell_type": "code",
   "execution_count": 7,
   "id": "13b0124c",
   "metadata": {},
   "outputs": [
    {
     "data": {
      "text/plain": [
       "'Imran'"
      ]
     },
     "execution_count": 7,
     "metadata": {},
     "output_type": "execute_result"
    }
   ],
   "source": [
    "name[-1]"
   ]
  },
  {
   "cell_type": "code",
   "execution_count": 8,
   "id": "b1d90d43",
   "metadata": {},
   "outputs": [],
   "source": [
    "values = ['Sami', 25, 6.1,]"
   ]
  },
  {
   "cell_type": "code",
   "execution_count": 9,
   "id": "fa7e09d0",
   "metadata": {},
   "outputs": [
    {
     "data": {
      "text/plain": [
       "['Sami', 25, 6.1]"
      ]
     },
     "execution_count": 9,
     "metadata": {},
     "output_type": "execute_result"
    }
   ],
   "source": [
    "values"
   ]
  },
  {
   "cell_type": "code",
   "execution_count": 10,
   "id": "008af48f",
   "metadata": {},
   "outputs": [],
   "source": [
    "mil =[num, name, values]"
   ]
  },
  {
   "cell_type": "code",
   "execution_count": 11,
   "id": "222c4115",
   "metadata": {},
   "outputs": [
    {
     "data": {
      "text/plain": [
       "[[23, 4, 55, 10], ['hasnat', 'Kazi', 'Imran'], ['Sami', 25, 6.1]]"
      ]
     },
     "execution_count": 11,
     "metadata": {},
     "output_type": "execute_result"
    }
   ],
   "source": [
    "mil"
   ]
  },
  {
   "cell_type": "code",
   "execution_count": 16,
   "id": "3021c2bc",
   "metadata": {},
   "outputs": [],
   "source": [
    "num.append(99)          # list is mutable, you can change it when needed"
   ]
  },
  {
   "cell_type": "code",
   "execution_count": 17,
   "id": "45fad977",
   "metadata": {},
   "outputs": [
    {
     "data": {
      "text/plain": [
       "[23, 4, 55, 10, 99, 99]"
      ]
     },
     "execution_count": 17,
     "metadata": {},
     "output_type": "execute_result"
    }
   ],
   "source": [
    "num"
   ]
  },
  {
   "cell_type": "code",
   "execution_count": 18,
   "id": "369875ef",
   "metadata": {},
   "outputs": [
    {
     "data": {
      "text/plain": [
       "[[23, 4, 55, 10, 99, 99], ['hasnat', 'Kazi', 'Imran'], ['Sami', 25, 6.1]]"
      ]
     },
     "execution_count": 18,
     "metadata": {},
     "output_type": "execute_result"
    }
   ],
   "source": [
    "mil"
   ]
  },
  {
   "cell_type": "code",
   "execution_count": 21,
   "id": "8037afd0",
   "metadata": {},
   "outputs": [],
   "source": [
    "num.remove(99)"
   ]
  },
  {
   "cell_type": "code",
   "execution_count": 22,
   "id": "a1e61317",
   "metadata": {},
   "outputs": [
    {
     "data": {
      "text/plain": [
       "[[23, 4, 55, 10, 99], ['hasnat', 'Kazi', 'Imran'], ['Sami', 25, 6.1]]"
      ]
     },
     "execution_count": 22,
     "metadata": {},
     "output_type": "execute_result"
    }
   ],
   "source": [
    "mil"
   ]
  },
  {
   "cell_type": "code",
   "execution_count": 23,
   "id": "928f0cf8",
   "metadata": {},
   "outputs": [],
   "source": [
    "name.insert(1,'Khalid')"
   ]
  },
  {
   "cell_type": "code",
   "execution_count": 24,
   "id": "724540d2",
   "metadata": {},
   "outputs": [
    {
     "data": {
      "text/plain": [
       "['hasnat', 'Khalid', 'Kazi', 'Imran']"
      ]
     },
     "execution_count": 24,
     "metadata": {},
     "output_type": "execute_result"
    }
   ],
   "source": [
    "name"
   ]
  },
  {
   "cell_type": "code",
   "execution_count": 25,
   "id": "54b16919",
   "metadata": {},
   "outputs": [
    {
     "data": {
      "text/plain": [
       "[[23, 4, 55, 10, 99], ['hasnat', 'Khalid', 'Kazi', 'Imran'], ['Sami', 25, 6.1]]"
      ]
     },
     "execution_count": 25,
     "metadata": {},
     "output_type": "execute_result"
    }
   ],
   "source": [
    "mil"
   ]
  },
  {
   "cell_type": "code",
   "execution_count": 26,
   "id": "c6c338d4",
   "metadata": {},
   "outputs": [
    {
     "data": {
      "text/plain": [
       "'Imran'"
      ]
     },
     "execution_count": 26,
     "metadata": {},
     "output_type": "execute_result"
    }
   ],
   "source": [
    "name.pop()"
   ]
  },
  {
   "cell_type": "code",
   "execution_count": 27,
   "id": "a2638333",
   "metadata": {},
   "outputs": [
    {
     "data": {
      "text/plain": [
       "[[23, 4, 55, 10, 99], ['hasnat', 'Khalid', 'Kazi'], ['Sami', 25, 6.1]]"
      ]
     },
     "execution_count": 27,
     "metadata": {},
     "output_type": "execute_result"
    }
   ],
   "source": [
    "mil"
   ]
  },
  {
   "cell_type": "code",
   "execution_count": 28,
   "id": "3fbc85ba",
   "metadata": {},
   "outputs": [],
   "source": [
    "del num[2:]"
   ]
  },
  {
   "cell_type": "code",
   "execution_count": 29,
   "id": "484e37ae",
   "metadata": {},
   "outputs": [
    {
     "data": {
      "text/plain": [
       "[23, 4]"
      ]
     },
     "execution_count": 29,
     "metadata": {},
     "output_type": "execute_result"
    }
   ],
   "source": [
    "num"
   ]
  },
  {
   "cell_type": "code",
   "execution_count": 30,
   "id": "b28c0ef0",
   "metadata": {},
   "outputs": [
    {
     "data": {
      "text/plain": [
       "[[23, 4], ['hasnat', 'Khalid', 'Kazi'], ['Sami', 25, 6.1]]"
      ]
     },
     "execution_count": 30,
     "metadata": {},
     "output_type": "execute_result"
    }
   ],
   "source": [
    "mil"
   ]
  },
  {
   "cell_type": "code",
   "execution_count": 31,
   "id": "d57bf6fb",
   "metadata": {},
   "outputs": [
    {
     "ename": "TypeError",
     "evalue": "'builtin_function_or_method' object is not subscriptable",
     "output_type": "error",
     "traceback": [
      "\u001b[1;31m---------------------------------------------------------------------------\u001b[0m",
      "\u001b[1;31mTypeError\u001b[0m                                 Traceback (most recent call last)",
      "Cell \u001b[1;32mIn[31], line 1\u001b[0m\n\u001b[1;32m----> 1\u001b[0m \u001b[43mnum\u001b[49m\u001b[38;5;241;43m.\u001b[39;49m\u001b[43mextend\u001b[49m\u001b[43m[\u001b[49m\u001b[38;5;241;43m22\u001b[39;49m\u001b[43m,\u001b[49m\u001b[38;5;241;43m33\u001b[39;49m\u001b[43m]\u001b[49m\n",
      "\u001b[1;31mTypeError\u001b[0m: 'builtin_function_or_method' object is not subscriptable"
     ]
    }
   ],
   "source": [
    "num.extend[22,33]"
   ]
  },
  {
   "cell_type": "code",
   "execution_count": 32,
   "id": "0706d01f",
   "metadata": {},
   "outputs": [],
   "source": [
    "num.extend([22,33])"
   ]
  },
  {
   "cell_type": "code",
   "execution_count": 33,
   "id": "9fb89377",
   "metadata": {},
   "outputs": [
    {
     "data": {
      "text/plain": [
       "[[23, 4, 22, 33], ['hasnat', 'Khalid', 'Kazi'], ['Sami', 25, 6.1]]"
      ]
     },
     "execution_count": 33,
     "metadata": {},
     "output_type": "execute_result"
    }
   ],
   "source": [
    "mil"
   ]
  },
  {
   "cell_type": "code",
   "execution_count": 34,
   "id": "e56bf4b1",
   "metadata": {},
   "outputs": [
    {
     "data": {
      "text/plain": [
       "4"
      ]
     },
     "execution_count": 34,
     "metadata": {},
     "output_type": "execute_result"
    }
   ],
   "source": [
    "min(num)"
   ]
  },
  {
   "cell_type": "code",
   "execution_count": 35,
   "id": "c9acbe62",
   "metadata": {},
   "outputs": [
    {
     "data": {
      "text/plain": [
       "33"
      ]
     },
     "execution_count": 35,
     "metadata": {},
     "output_type": "execute_result"
    }
   ],
   "source": [
    "max(num)"
   ]
  },
  {
   "cell_type": "code",
   "execution_count": 36,
   "id": "f1d4f05e",
   "metadata": {},
   "outputs": [
    {
     "data": {
      "text/plain": [
       "82"
      ]
     },
     "execution_count": 36,
     "metadata": {},
     "output_type": "execute_result"
    }
   ],
   "source": [
    "sum(num)"
   ]
  },
  {
   "cell_type": "code",
   "execution_count": 38,
   "id": "447bd054",
   "metadata": {},
   "outputs": [],
   "source": [
    "num.sort()"
   ]
  },
  {
   "cell_type": "code",
   "execution_count": 39,
   "id": "659ca3b6",
   "metadata": {},
   "outputs": [
    {
     "data": {
      "text/plain": [
       "[4, 22, 23, 33]"
      ]
     },
     "execution_count": 39,
     "metadata": {},
     "output_type": "execute_result"
    }
   ],
   "source": [
    "num"
   ]
  },
  {
   "cell_type": "code",
   "execution_count": 43,
   "id": "554c5af5",
   "metadata": {
    "scrolled": true
   },
   "outputs": [
    {
     "ename": "TypeError",
     "evalue": "'<' not supported between instances of 'str' and 'int'",
     "output_type": "error",
     "traceback": [
      "\u001b[1;31m---------------------------------------------------------------------------\u001b[0m",
      "\u001b[1;31mTypeError\u001b[0m                                 Traceback (most recent call last)",
      "Cell \u001b[1;32mIn[43], line 1\u001b[0m\n\u001b[1;32m----> 1\u001b[0m \u001b[43mmil\u001b[49m\u001b[38;5;241;43m.\u001b[39;49m\u001b[43msort\u001b[49m\u001b[43m(\u001b[49m\u001b[43m)\u001b[49m\n",
      "\u001b[1;31mTypeError\u001b[0m: '<' not supported between instances of 'str' and 'int'"
     ]
    }
   ],
   "source": [
    "mil.sort()"
   ]
  },
  {
   "cell_type": "code",
   "execution_count": 45,
   "id": "5555a19d",
   "metadata": {},
   "outputs": [
    {
     "data": {
      "text/plain": [
       "[[4, 22, 23, 33], ['hasnat', 'Khalid', 'Kazi'], ['Sami', 25, 6.1]]"
      ]
     },
     "execution_count": 45,
     "metadata": {},
     "output_type": "execute_result"
    }
   ],
   "source": [
    "mil"
   ]
  },
  {
   "cell_type": "markdown",
   "id": "615a4dbf",
   "metadata": {},
   "source": [
    "### The END"
   ]
  }
 ],
 "metadata": {
  "kernelspec": {
   "display_name": "Python 3 (ipykernel)",
   "language": "python",
   "name": "python3"
  },
  "language_info": {
   "codemirror_mode": {
    "name": "ipython",
    "version": 3
   },
   "file_extension": ".py",
   "mimetype": "text/x-python",
   "name": "python",
   "nbconvert_exporter": "python",
   "pygments_lexer": "ipython3",
   "version": "3.11.0"
  }
 },
 "nbformat": 4,
 "nbformat_minor": 5
}
